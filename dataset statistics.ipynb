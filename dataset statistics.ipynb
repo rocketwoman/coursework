{
 "cells": [
  {
   "cell_type": "code",
   "execution_count": 16,
   "metadata": {},
   "outputs": [],
   "source": [
    "import pandas as pd\n",
    "import config\n",
    "\n",
    "import matplotlib.pyplot as plt"
   ]
  },
  {
   "cell_type": "code",
   "execution_count": 3,
   "metadata": {},
   "outputs": [],
   "source": [
    "final_df = pd.read_csv(config.final_df)\n",
    "final_df['preprocessed'] = final_df['preprocessed'].apply(lambda x:eval(x))"
   ]
  },
  {
   "cell_type": "code",
   "execution_count": 9,
   "metadata": {},
   "outputs": [],
   "source": [
    "final_df['code_first'] = final_df['code_true'].str[:1]"
   ]
  },
  {
   "cell_type": "code",
   "execution_count": 8,
   "metadata": {},
   "outputs": [
    {
     "data": {
      "text/html": [
       "<div>\n",
       "<style scoped>\n",
       "    .dataframe tbody tr th:only-of-type {\n",
       "        vertical-align: middle;\n",
       "    }\n",
       "\n",
       "    .dataframe tbody tr th {\n",
       "        vertical-align: top;\n",
       "    }\n",
       "\n",
       "    .dataframe thead th {\n",
       "        text-align: right;\n",
       "    }\n",
       "</style>\n",
       "<table border=\"1\" class=\"dataframe\">\n",
       "  <thead>\n",
       "    <tr style=\"text-align: right;\">\n",
       "      <th></th>\n",
       "      <th>region</th>\n",
       "      <th>nation</th>\n",
       "      <th>text</th>\n",
       "      <th>code_name</th>\n",
       "      <th>motif</th>\n",
       "      <th>code_true</th>\n",
       "      <th>preprocessed</th>\n",
       "      <th>no_references</th>\n",
       "      <th>bert_vectors</th>\n",
       "      <th>fasttext_mean_vecs</th>\n",
       "      <th>w2v_weighted</th>\n",
       "    </tr>\n",
       "  </thead>\n",
       "  <tbody>\n",
       "    <tr>\n",
       "      <th>53329</th>\n",
       "      <td>балканы</td>\n",
       "      <td>болгары</td>\n",
       "      <td>[обманщик говорит дракону (черту), что его до...</td>\n",
       "      <td>Почему только один волк</td>\n",
       "      <td>Увидев приближающегося хищника (великана и т.п...</td>\n",
       "      <td>M152</td>\n",
       "      <td>[обманщик, говорить, дракон, черта, дом, покры...</td>\n",
       "      <td>['обманщик говорит дракону (черту), что его до...</td>\n",
       "      <td>[0.21291297674179077, 0.3295004367828369, 0.02...</td>\n",
       "      <td>[-4.94566746e-02 -1.05863221e-01 -3.95881608e-...</td>\n",
       "      <td>[-0.5004073   0.07276736  0.6005163   1.335684...</td>\n",
       "    </tr>\n",
       "    <tr>\n",
       "      <th>5158</th>\n",
       "      <td>северные анды</td>\n",
       "      <td>паэс</td>\n",
       "      <td>: Bernal Villa 1953, № 9 [в месте восхода; люд...</td>\n",
       "      <td>Путешествующий преобразователь</td>\n",
       "      <td>Путешествуя из одной местности в другую, персо...</td>\n",
       "      <td>B28</td>\n",
       "      <td>[место, восход, человек, предлагать, примерива...</td>\n",
       "      <td>['в месте восхода; люди предлагают ему примери...</td>\n",
       "      <td>[0.052161406725645065, -0.07387597858905792, 0...</td>\n",
       "      <td>[-5.48324622e-02 -1.03129953e-01 -4.33354788e-...</td>\n",
       "      <td>[ 0.07932664 -1.8023466   0.1468743   0.724317...</td>\n",
       "    </tr>\n",
       "    <tr>\n",
       "      <th>33468</th>\n",
       "      <td>ср льяносы</td>\n",
       "      <td>сикуани</td>\n",
       "      <td>[&lt;i&gt;царь&lt;/i&gt;; евр. обозначение; в других одно...</td>\n",
       "      <td>Дающий задания  царь или вождь</td>\n",
       "      <td>Персонаж, дающий герою трудные задачи или подв...</td>\n",
       "      <td>K27n1</td>\n",
       "      <td>[царь, евр, обозначение, односюжетный, текст, ...</td>\n",
       "      <td>['&lt;i&gt;царь&lt;/i&gt;; евр. обозначение; в других одно...</td>\n",
       "      <td>[-0.20987938344478607, -0.5286339521408081, 0....</td>\n",
       "      <td>[-3.84919979e-02 -1.13623433e-01 -4.62775938e-...</td>\n",
       "      <td>[ 1.9557923e+00 -2.4028328e-01 -2.8420415e+00 ...</td>\n",
       "    </tr>\n",
       "    <tr>\n",
       "      <th>1837</th>\n",
       "      <td>монтанья  журуа</td>\n",
       "      <td>чаяуита</td>\n",
       "      <td>: García Tomas 1994(3): 80-83 [Солнце - сирота...</td>\n",
       "      <td>Солнцемужчина и Лунаженщина</td>\n",
       "      <td>Луна - женщина или двупола, Солнце - мужчина и...</td>\n",
       "      <td>A3</td>\n",
       "      <td>[солнце, сирота, жить, земля, бабка, слепой, г...</td>\n",
       "      <td>['Солнце - сирота, живет на земле с бабкой, он...</td>\n",
       "      <td>[0.14377284049987793, 0.12656031548976898, 0.2...</td>\n",
       "      <td>[-5.22419028e-02 -1.07777268e-01 -5.02533205e-...</td>\n",
       "      <td>[ 0.2890836  -0.15161446  0.94757915  0.466215...</td>\n",
       "    </tr>\n",
       "    <tr>\n",
       "      <th>34974</th>\n",
       "      <td>северная африка</td>\n",
       "      <td>берберы</td>\n",
       "      <td>северного Марокко [семиглавый демон разоряет ...</td>\n",
       "      <td>Героя спускают в нижний мир</td>\n",
       "      <td>.11.13.-.17.21.-.24.26.-.37.(.39.)</td>\n",
       "      <td>K2A</td>\n",
       "      <td>[северный, марокко, семиглавый, демон, разорят...</td>\n",
       "      <td>['семиглавый демон разоряет сад султана; Мухам...</td>\n",
       "      <td>[0.428638756275177, -0.04523009434342384, 0.30...</td>\n",
       "      <td>[-0.05578963 -0.10504042 -0.0457698  -0.047314...</td>\n",
       "      <td>[ 2.75116771e-01 -1.01985383e+00  7.77130723e-...</td>\n",
       "    </tr>\n",
       "    <tr>\n",
       "      <th>46729</th>\n",
       "      <td>амур  сахалин</td>\n",
       "      <td>орочи</td>\n",
       "      <td>[Дэвэкта велит птичке раздувать меха, та прид...</td>\n",
       "      <td>Ловушка демона</td>\n",
       "      <td>Демон ставит ловушку, в нее попадают люди. Ср....</td>\n",
       "      <td>L38</td>\n",
       "      <td>[дэвэкт, велеть, птичка, раздувать, мех, приду...</td>\n",
       "      <td>['Дэвэкта велит птичке раздувать меха, та прид...</td>\n",
       "      <td>[0.05776099115610123, 0.11408444494009018, 0.1...</td>\n",
       "      <td>[-5.30786999e-02 -1.13049388e-01 -4.72160429e-...</td>\n",
       "      <td>[ 0.24676324 -0.19461651  0.9246384   0.937792...</td>\n",
       "    </tr>\n",
       "    <tr>\n",
       "      <th>44991</th>\n",
       "      <td>калифорния</td>\n",
       "      <td>чумаш</td>\n",
       "      <td>[бабка &lt;i&gt;Момой&lt;/i&gt; (Datura meteloides) воспи...</td>\n",
       "      <td>Убить тростником</td>\n",
       "      <td>Персонажа можно убить лишь определенным растен...</td>\n",
       "      <td>L15B</td>\n",
       "      <td>[бабка, момой, воспитывать, двое, внук, велеть...</td>\n",
       "      <td>[\"бабка &lt;i&gt;Момой&lt;/i&gt; (Datura meteloides) воспи...</td>\n",
       "      <td>[-0.4307810068130493, -0.27751195430755615, 0....</td>\n",
       "      <td>[-4.94373702e-02 -1.02342390e-01 -3.68428119e-...</td>\n",
       "      <td>[ 5.88479102e-01 -1.61388889e-01  8.34479809e-...</td>\n",
       "    </tr>\n",
       "  </tbody>\n",
       "</table>\n",
       "</div>"
      ],
      "text/plain": [
       "                region   nation  \\\n",
       "53329          балканы  болгары   \n",
       "5158     северные анды     паэс   \n",
       "33468       ср льяносы  сикуани   \n",
       "1837   монтанья  журуа  чаяуита   \n",
       "34974  северная африка  берберы   \n",
       "46729    амур  сахалин    орочи   \n",
       "44991       калифорния    чумаш   \n",
       "\n",
       "                                                    text  \\\n",
       "53329   [обманщик говорит дракону (черту), что его до...   \n",
       "5158   : Bernal Villa 1953, № 9 [в месте восхода; люд...   \n",
       "33468   [<i>царь</i>; евр. обозначение; в других одно...   \n",
       "1837   : García Tomas 1994(3): 80-83 [Солнце - сирота...   \n",
       "34974   северного Марокко [семиглавый демон разоряет ...   \n",
       "46729   [Дэвэкта велит птичке раздувать меха, та прид...   \n",
       "44991   [бабка <i>Момой</i> (Datura meteloides) воспи...   \n",
       "\n",
       "                              code_name  \\\n",
       "53329         Почему только один волк     \n",
       "5158    Путешествующий преобразователь    \n",
       "33468   Дающий задания  царь или вождь    \n",
       "1837      Солнцемужчина и Лунаженщина     \n",
       "34974       Героя спускают в нижний мир   \n",
       "46729                   Ловушка демона    \n",
       "44991                 Убить тростником    \n",
       "\n",
       "                                                   motif code_true  \\\n",
       "53329  Увидев приближающегося хищника (великана и т.п...      M152   \n",
       "5158   Путешествуя из одной местности в другую, персо...       B28   \n",
       "33468  Персонаж, дающий герою трудные задачи или подв...     K27n1   \n",
       "1837   Луна - женщина или двупола, Солнце - мужчина и...        A3   \n",
       "34974                 .11.13.-.17.21.-.24.26.-.37.(.39.)       K2A   \n",
       "46729  Демон ставит ловушку, в нее попадают люди. Ср....       L38   \n",
       "44991  Персонажа можно убить лишь определенным растен...      L15B   \n",
       "\n",
       "                                            preprocessed  \\\n",
       "53329  [обманщик, говорить, дракон, черта, дом, покры...   \n",
       "5158   [место, восход, человек, предлагать, примерива...   \n",
       "33468  [царь, евр, обозначение, односюжетный, текст, ...   \n",
       "1837   [солнце, сирота, жить, земля, бабка, слепой, г...   \n",
       "34974  [северный, марокко, семиглавый, демон, разорят...   \n",
       "46729  [дэвэкт, велеть, птичка, раздувать, мех, приду...   \n",
       "44991  [бабка, момой, воспитывать, двое, внук, велеть...   \n",
       "\n",
       "                                           no_references  \\\n",
       "53329  ['обманщик говорит дракону (черту), что его до...   \n",
       "5158   ['в месте восхода; люди предлагают ему примери...   \n",
       "33468  ['<i>царь</i>; евр. обозначение; в других одно...   \n",
       "1837   ['Солнце - сирота, живет на земле с бабкой, он...   \n",
       "34974  ['семиглавый демон разоряет сад султана; Мухам...   \n",
       "46729  ['Дэвэкта велит птичке раздувать меха, та прид...   \n",
       "44991  [\"бабка <i>Момой</i> (Datura meteloides) воспи...   \n",
       "\n",
       "                                            bert_vectors  \\\n",
       "53329  [0.21291297674179077, 0.3295004367828369, 0.02...   \n",
       "5158   [0.052161406725645065, -0.07387597858905792, 0...   \n",
       "33468  [-0.20987938344478607, -0.5286339521408081, 0....   \n",
       "1837   [0.14377284049987793, 0.12656031548976898, 0.2...   \n",
       "34974  [0.428638756275177, -0.04523009434342384, 0.30...   \n",
       "46729  [0.05776099115610123, 0.11408444494009018, 0.1...   \n",
       "44991  [-0.4307810068130493, -0.27751195430755615, 0....   \n",
       "\n",
       "                                      fasttext_mean_vecs  \\\n",
       "53329  [-4.94566746e-02 -1.05863221e-01 -3.95881608e-...   \n",
       "5158   [-5.48324622e-02 -1.03129953e-01 -4.33354788e-...   \n",
       "33468  [-3.84919979e-02 -1.13623433e-01 -4.62775938e-...   \n",
       "1837   [-5.22419028e-02 -1.07777268e-01 -5.02533205e-...   \n",
       "34974  [-0.05578963 -0.10504042 -0.0457698  -0.047314...   \n",
       "46729  [-5.30786999e-02 -1.13049388e-01 -4.72160429e-...   \n",
       "44991  [-4.94373702e-02 -1.02342390e-01 -3.68428119e-...   \n",
       "\n",
       "                                            w2v_weighted  \n",
       "53329  [-0.5004073   0.07276736  0.6005163   1.335684...  \n",
       "5158   [ 0.07932664 -1.8023466   0.1468743   0.724317...  \n",
       "33468  [ 1.9557923e+00 -2.4028328e-01 -2.8420415e+00 ...  \n",
       "1837   [ 0.2890836  -0.15161446  0.94757915  0.466215...  \n",
       "34974  [ 2.75116771e-01 -1.01985383e+00  7.77130723e-...  \n",
       "46729  [ 0.24676324 -0.19461651  0.9246384   0.937792...  \n",
       "44991  [ 5.88479102e-01 -1.61388889e-01  8.34479809e-...  "
      ]
     },
     "execution_count": 8,
     "metadata": {},
     "output_type": "execute_result"
    }
   ],
   "source": [
    "final_df.sample(7)"
   ]
  },
  {
   "cell_type": "code",
   "execution_count": 11,
   "metadata": {},
   "outputs": [
    {
     "name": "stdout",
     "output_type": "stream",
     "text": [
      "Number of regions: 271\n",
      "Number of nations: 2951\n",
      "Number of small codes: 2433\n",
      "Number of main codes: 14\n"
     ]
    }
   ],
   "source": [
    "print('Number of regions: {}'.format(final_df.region.nunique()))\n",
    "print('Number of nations: {}'.format(final_df.nation.nunique()))\n",
    "print('Number of small codes: {}'.format(final_df.code_true.nunique()))\n",
    "print('Number of main codes: {}'.format(final_df.code_first.nunique()))"
   ]
  },
  {
   "cell_type": "code",
   "execution_count": 20,
   "metadata": {},
   "outputs": [
    {
     "data": {
      "text/plain": [
       "кавказ  малая азия           4414\n",
       "балтоскандия                 2702\n",
       "южная азия                   2555\n",
       "побережье  плато             2382\n",
       "балканы                      2077\n",
       "южная европа                 1977\n",
       "средняя европа               1920\n",
       "бантуязычная африка          1867\n",
       "иран  средняя азия           1864\n",
       "западная африка              1764\n",
       "волга  пермь                 1639\n",
       "равнины                      1454\n",
       "западная европа              1345\n",
       "тибет  северовосток индии    1247\n",
       "большой югозапад             1211\n",
       "малайзия  индонезия          1184\n",
       "меланезия                    1110\n",
       "калифорния                   1108\n",
       "северная африка              1094\n",
       "судан  восточная африка      1082\n",
       "Name: region, dtype: int64"
      ]
     },
     "execution_count": 20,
     "metadata": {},
     "output_type": "execute_result"
    }
   ],
   "source": [
    "final_df.region.value_counts()[:20]"
   ]
  },
  {
   "cell_type": "code",
   "execution_count": 19,
   "metadata": {},
   "outputs": [
    {
     "data": {
      "text/plain": [
       "русские        580\n",
       "украинцы       415\n",
       "болгары        413\n",
       "латыши         406\n",
       "грузины        382\n",
       "казахи         377\n",
       "татары         366\n",
       "персы          345\n",
       "башкиры        340\n",
       "белорусы       335\n",
       "турки          328\n",
       "французы       325\n",
       "литовцы        319\n",
       "осетины        318\n",
       "армяне         314\n",
       "итальянцы      300\n",
       "португальцы    297\n",
       "монголы        292\n",
       "эвенки         289\n",
       "греки          283\n",
       "Name: nation, dtype: int64"
      ]
     },
     "execution_count": 19,
     "metadata": {},
     "output_type": "execute_result"
    }
   ],
   "source": [
    "final_df.nation.value_counts()[:20]"
   ]
  },
  {
   "cell_type": "code",
   "execution_count": 17,
   "metadata": {},
   "outputs": [
    {
     "data": {
      "text/plain": [
       "(array([3.0955e+04, 1.5757e+04, 7.4180e+03, 3.7230e+03, 2.0250e+03,\n",
       "        1.1680e+03, 7.0400e+02, 4.0600e+02, 2.5100e+02, 1.8100e+02,\n",
       "        1.3200e+02, 7.0000e+01, 5.5000e+01, 3.4000e+01, 3.9000e+01,\n",
       "        1.8000e+01, 1.7000e+01, 1.9000e+01, 1.7000e+01, 7.0000e+00,\n",
       "        7.0000e+00, 2.0000e+00, 2.0000e+00, 2.0000e+00, 1.0000e+00,\n",
       "        3.0000e+00, 1.0000e+00, 1.0000e+00, 1.0000e+00, 2.0000e+00]),\n",
       " array([1.00000000e+00, 5.37666667e+01, 1.06533333e+02, 1.59300000e+02,\n",
       "        2.12066667e+02, 2.64833333e+02, 3.17600000e+02, 3.70366667e+02,\n",
       "        4.23133333e+02, 4.75900000e+02, 5.28666667e+02, 5.81433333e+02,\n",
       "        6.34200000e+02, 6.86966667e+02, 7.39733333e+02, 7.92500000e+02,\n",
       "        8.45266667e+02, 8.98033333e+02, 9.50800000e+02, 1.00356667e+03,\n",
       "        1.05633333e+03, 1.10910000e+03, 1.16186667e+03, 1.21463333e+03,\n",
       "        1.26740000e+03, 1.32016667e+03, 1.37293333e+03, 1.42570000e+03,\n",
       "        1.47846667e+03, 1.53123333e+03, 1.58400000e+03]),\n",
       " <BarContainer object of 30 artists>)"
      ]
     },
     "execution_count": 17,
     "metadata": {},
     "output_type": "execute_result"
    },
    {
     "data": {
      "image/png": "[encoded data removed]",
      "text/plain": [
       "<Figure size 432x288 with 1 Axes>"
      ]
     },
     "metadata": {
      "needs_background": "light"
     },
     "output_type": "display_data"
    }
   ],
   "source": [
    "plt.hist(final_df['preprocessed'].apply(len), bins=30)"
   ]
  },
  {
   "cell_type": "code",
   "execution_count": 18,
   "metadata": {},
   "outputs": [
    {
     "data": {
      "text/plain": [
       "count    63018.000000\n",
       "mean        84.550557\n",
       "std         98.090023\n",
       "min          1.000000\n",
       "25%         24.000000\n",
       "50%         55.000000\n",
       "75%        109.000000\n",
       "max       1584.000000\n",
       "Name: preprocessed, dtype: float64"
      ]
     },
     "execution_count": 18,
     "metadata": {},
     "output_type": "execute_result"
    }
   ],
   "source": [
    "final_df['preprocessed'].apply(len).describe()"
   ]
  },
  {
   "cell_type": "code",
   "execution_count": null,
   "metadata": {},
   "outputs": [],
   "source": []
  }
 ],
 "metadata": {
  "kernelspec": {
   "display_name": "Python 3",
   "language": "python",
   "name": "python3"
  },
  "language_info": {
   "codemirror_mode": {
    "name": "ipython",
    "version": 3
   },
   "file_extension": ".py",
   "mimetype": "text/x-python",
   "name": "python",
   "nbconvert_exporter": "python",
   "pygments_lexer": "ipython3",
   "version": "3.6.9"
  }
 },
 "nbformat": 4,
 "nbformat_minor": 4
}
