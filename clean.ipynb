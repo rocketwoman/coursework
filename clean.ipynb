{
 "cells": [
  {
   "cell_type": "code",
   "execution_count": 33,
   "metadata": {},
   "outputs": [],
   "source": [
    "from sklearn.cluster import KMeans\n",
    "import pandas as pd\n",
    "from gensim.models import Word2Vec\n",
    "import numpy as np\n",
    "import re\n",
    "from tqdm import tqdm, tqdm_notebook\n",
    "tqdm.pandas()\n",
    "\n",
    "import config"
   ]
  },
  {
   "cell_type": "code",
   "execution_count": 2,
   "metadata": {},
   "outputs": [],
   "source": [
    "final_df = pd.read_csv(config.final_df)\n",
    "final_df['preprocessed'] = final_df['preprocessed'].apply(lambda x:eval(x))"
   ]
  },
  {
   "cell_type": "markdown",
   "metadata": {},
   "source": [
    "### 1. Leave only text in brackets"
   ]
  },
  {
   "cell_type": "code",
   "execution_count": 4,
   "metadata": {},
   "outputs": [],
   "source": [
    "def leave_only_in_brackets(x):\n",
    "    return re.findall('\\[(.*?)\\]', x)"
   ]
  },
  {
   "cell_type": "code",
   "execution_count": 5,
   "metadata": {},
   "outputs": [],
   "source": [
    "final_df = final_df[final_df.text.notna()]"
   ]
  },
  {
   "cell_type": "code",
   "execution_count": 6,
   "metadata": {},
   "outputs": [
    {
     "name": "stderr",
     "output_type": "stream",
     "text": [
      "100%|██████████| 63018/63018 [00:00<00:00, 102816.42it/s]\n"
     ]
    }
   ],
   "source": [
    "final_df['no_references'] = final_df['text'].progress_apply(lambda x: leave_only_in_brackets(x))"
   ]
  },
  {
   "cell_type": "markdown",
   "metadata": {},
   "source": [
    "### 2. Find a cluster with words that obviously belong to author's comments"
   ]
  },
  {
   "cell_type": "code",
   "execution_count": 7,
   "metadata": {},
   "outputs": [
    {
     "data": {
      "text/plain": [
       "(78430091, 159846210)"
      ]
     },
     "execution_count": 7,
     "metadata": {},
     "output_type": "execute_result"
    }
   ],
   "source": [
    "w2v_model = Word2Vec(min_count=20,\n",
    "                     window=2,\n",
    "                     size=300,\n",
    "                     sample=6e-5, \n",
    "                     alpha=0.03, \n",
    "                     min_alpha=0.0007, \n",
    "                     negative=20)\n",
    "\n",
    "sent = final_df['preprocessed'].values \n",
    "w2v_model.build_vocab(sent, progress_per=10000)\n",
    "w2v_model.train(sent, total_examples=w2v_model.corpus_count, epochs=30, report_delay=1)"
   ]
  },
  {
   "cell_type": "code",
   "execution_count": 8,
   "metadata": {},
   "outputs": [
    {
     "name": "stderr",
     "output_type": "stream",
     "text": [
      "/home/marie/venv/lib/python3.6/site-packages/ipykernel_launcher.py:3: DeprecationWarning: Call to deprecated `__getitem__` (Method will be removed in 4.0.0, use self.wv.__getitem__() instead).\n",
      "  This is separate from the ipykernel package so we can avoid doing imports until\n"
     ]
    }
   ],
   "source": [
    "vectors = []\n",
    "for word in w2v_model.wv.vocab:\n",
    "    vectors.append(w2v_model[word])"
   ]
  },
  {
   "cell_type": "code",
   "execution_count": 9,
   "metadata": {},
   "outputs": [],
   "source": [
    "kmeans = KMeans(\n",
    "     init=\"random\",\n",
    "     n_clusters=15,\n",
    "     n_init=10,\n",
    "     max_iter=300,\n",
    "     random_state=42\n",
    " )"
   ]
  },
  {
   "cell_type": "code",
   "execution_count": 10,
   "metadata": {},
   "outputs": [],
   "source": [
    "clusters = kmeans.fit_predict(vectors)"
   ]
  },
  {
   "cell_type": "code",
   "execution_count": 11,
   "metadata": {},
   "outputs": [],
   "source": [
    "noisy_df = pd.DataFrame(data={'word': [word for word in w2v_model.wv.vocab], 'cluster':clusters})"
   ]
  },
  {
   "cell_type": "code",
   "execution_count": 102,
   "metadata": {},
   "outputs": [],
   "source": [
    "noisy = set(noisy_df[noisy_df.cluster == 8].word.values)"
   ]
  },
  {
   "cell_type": "code",
   "execution_count": 103,
   "metadata": {},
   "outputs": [],
   "source": [
    "def remove_comments(text):\n",
    "    text = re.sub(\"[^А-Яа-я']+\", ' ', str(text)).lower().split(' ')\n",
    "    text = [x for x in text if x != '']\n",
    "    true_text = []\n",
    "    for word in text:\n",
    "        word = re.sub(\"[^А-Яа-я']+\", ' ', str(word)).lower()\n",
    "        if mystem.lemmatize(word.lower())[0] not in noisy:\n",
    "            true_text.append(word)\n",
    "    return ' '.join(true_text)"
   ]
  },
  {
   "cell_type": "code",
   "execution_count": 110,
   "metadata": {},
   "outputs": [
    {
     "name": "stderr",
     "output_type": "stream",
     "text": [
      "100%|██████████| 63018/63018 [04:03<00:00, 259.20it/s]\n"
     ]
    }
   ],
   "source": [
    "final_df['no_references_cleaned'] = final_df['no_references'].progress_apply(remove_comments)"
   ]
  },
  {
   "cell_type": "code",
   "execution_count": 108,
   "metadata": {},
   "outputs": [
    {
     "data": {
      "text/plain": [
       "'м султонназаровой г моя бабушка поучала чтобы расчесывая волосы я не выбрасывала бы падаюшие волосы во двор иначе кафиры соберут их и затемнят ими луну в кишлаке манем сельсове сучан р н шугнан растет дерево которую называют видуг саксаул у него узкие длинные красно зеленые листья кафиры затемняют луну ветками из этого дерева чтобы затмение кончилось женщины поднимаются на крышу и с криком бьют в барабаны и бубны лашкарбеков'"
      ]
     },
     "execution_count": 108,
     "metadata": {},
     "output_type": "execute_result"
    }
   ],
   "source": [
    "remove_comments(final_df.iloc[258]['text'])"
   ]
  },
  {
   "cell_type": "code",
   "execution_count": 109,
   "metadata": {},
   "outputs": [
    {
     "data": {
      "text/plain": [
       "' [записано М. Султонназаровой, 2008 г.; 1) моя бабушка поучала, чтобы расчесывая волосы, я не выбрасывала бы падаюшие волосы во двор; иначе кафиры соберут их и затемнят ими Луну; 2) в кишлаке Манем (сельсове Сучан, р-н. Шугнан), растет дерево, которую называют Видуг (саксаул); у него узкие длинные красно-зеленые листья; кафиры затемняют Луну ветками из этого дерева; чтобы затмение кончилось, женщины поднимаются на крышу и с криком бьют в барабаны и бубны]: Лашкарбеков, рукопись; '"
      ]
     },
     "execution_count": 109,
     "metadata": {},
     "output_type": "execute_result"
    }
   ],
   "source": [
    "final_df.iloc[258]['text']"
   ]
  },
  {
   "cell_type": "markdown",
   "metadata": {},
   "source": [
    "### 3. Find the most rare words"
   ]
  },
  {
   "cell_type": "code",
   "execution_count": 180,
   "metadata": {},
   "outputs": [],
   "source": [
    "texts = final_df['no_references'].values"
   ]
  },
  {
   "cell_type": "code",
   "execution_count": 181,
   "metadata": {},
   "outputs": [],
   "source": [
    "all_words = []\n",
    "for text in texts[1:]:\n",
    "    try:\n",
    "        all_words.append(text[0].split(' '))\n",
    "    except IndexError:\n",
    "        continue"
   ]
  },
  {
   "cell_type": "code",
   "execution_count": 182,
   "metadata": {},
   "outputs": [],
   "source": [
    "all_words = np.concatenate(all_words)"
   ]
  },
  {
   "cell_type": "code",
   "execution_count": 184,
   "metadata": {},
   "outputs": [],
   "source": [
    "mystem = Mystem() "
   ]
  },
  {
   "cell_type": "code",
   "execution_count": 185,
   "metadata": {},
   "outputs": [
    {
     "name": "stderr",
     "output_type": "stream",
     "text": [
      "/home/marie/venv/lib/python3.6/site-packages/ipykernel_launcher.py:2: TqdmDeprecationWarning: This function will be removed in tqdm==5.0.0\n",
      "Please use `tqdm.notebook.tqdm` instead of `tqdm.tqdm_notebook`\n",
      "  \n"
     ]
    },
    {
     "data": {
      "application/vnd.jupyter.widget-view+json": {
       "model_id": "4ef0537fb901490ab386608eb0e7bdc3",
       "version_major": 2,
       "version_minor": 0
      },
      "text/plain": [
       "HBox(children=(FloatProgress(value=0.0, max=5375081.0), HTML(value='')))"
      ]
     },
     "metadata": {},
     "output_type": "display_data"
    },
    {
     "name": "stdout",
     "output_type": "stream",
     "text": [
      "\n"
     ]
    }
   ],
   "source": [
    "lemmatized_words = []\n",
    "for word in tqdm_notebook(all_words):\n",
    "    try:\n",
    "        lemmatized_words.append(mystem.lemmatize(word.lower())[0])\n",
    "    except IndexError:\n",
    "        continue"
   ]
  },
  {
   "cell_type": "code",
   "execution_count": 187,
   "metadata": {},
   "outputs": [],
   "source": [
    "lemmatized_words = pd.DataFrame(data={'words': lemmatized_words})"
   ]
  },
  {
   "cell_type": "code",
   "execution_count": 204,
   "metadata": {},
   "outputs": [],
   "source": [
    "frequency = pd.DataFrame(lemmatized_words.groupby('words')['words'].value_counts().sort_values().droplevel(1))"
   ]
  },
  {
   "cell_type": "code",
   "execution_count": 243,
   "metadata": {},
   "outputs": [],
   "source": [
    "rare_words = set(frequency[frequency['words'] < 5].index.values)"
   ]
  },
  {
   "cell_type": "code",
   "execution_count": 244,
   "metadata": {},
   "outputs": [],
   "source": [
    "def remove_rare_words(text):\n",
    "    text = re.sub(\"[^А-Яа-я']+\", ' ', str(text)).lower().split(' ')\n",
    "    text = [x for x in text if x != '']\n",
    "    true_text = []\n",
    "    for word in text:\n",
    "        word = re.sub(\"[^А-Яа-я']+\", ' ', str(word)).lower()\n",
    "        if mystem.lemmatize(word.lower())[0] not in rare_words:\n",
    "            true_text.append(word)\n",
    "    return ' '.join(true_text)"
   ]
  },
  {
   "cell_type": "code",
   "execution_count": 245,
   "metadata": {},
   "outputs": [
    {
     "name": "stderr",
     "output_type": "stream",
     "text": [
      "100%|██████████| 63018/63018 [03:55<00:00, 267.29it/s]\n"
     ]
    }
   ],
   "source": [
    "final_df['no_references_cleaned'] = final_df['no_references_cleaned'].progress_apply(remove_rare_words)"
   ]
  },
  {
   "cell_type": "code",
   "execution_count": 246,
   "metadata": {},
   "outputs": [
    {
     "data": {
      "text/plain": [
       "\"'записано м г моя бабушка чтобы расчесывая волосы я не выбрасывала бы волосы во двор иначе соберут их и затемнят ими луну в кишлаке манем сельсове р н растет дерево которую называют саксаул у него узкие длинные красно зеленые листья затемняют луну ветками из этого дерева чтобы затмение кончилось женщины поднимаются на крышу и с криком бьют в барабаны и бубны'\""
      ]
     },
     "execution_count": 246,
     "metadata": {},
     "output_type": "execute_result"
    }
   ],
   "source": [
    "final_df.iloc[258]['no_references_cleaned']"
   ]
  },
  {
   "cell_type": "code",
   "execution_count": 247,
   "metadata": {},
   "outputs": [],
   "source": [
    "final_df.to_csv(config.final_df, index=False)"
   ]
  },
  {
   "cell_type": "code",
   "execution_count": null,
   "metadata": {},
   "outputs": [],
   "source": []
  }
 ],
 "metadata": {
  "kernelspec": {
   "display_name": "Python 3",
   "language": "python",
   "name": "python3"
  },
  "language_info": {
   "codemirror_mode": {
    "name": "ipython",
    "version": 3
   },
   "file_extension": ".py",
   "mimetype": "text/x-python",
   "name": "python",
   "nbconvert_exporter": "python",
   "pygments_lexer": "ipython3",
   "version": "3.6.9"
  }
 },
 "nbformat": 4,
 "nbformat_minor": 4
}
